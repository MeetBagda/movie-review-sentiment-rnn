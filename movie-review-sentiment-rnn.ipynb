{
 "cells": [
  {
   "cell_type": "markdown",
   "id": "cff4f566",
   "metadata": {},
   "source": [
    "# Classifying Movie Reviews Using RNN"
   ]
  },
  {
   "cell_type": "code",
   "execution_count": 1,
   "id": "979edf51",
   "metadata": {},
   "outputs": [],
   "source": [
    "import torch\n",
    "import torch.nn as nn\n",
    "import torch.optim as optim\n",
    "import pandas as pd\n",
    "import numpy as np\n",
    "import matplotlib.pyplot as plt\n",
    "from sklearn.model_selection import train_test_split\n",
    "from sklearn.preprocessing import LabelEncoder\n",
    "from torch.utils.data import Dataset, DataLoader"
   ]
  },
  {
   "cell_type": "markdown",
   "id": "57d6d321",
   "metadata": {},
   "source": [
    "### Loading and Preprocessing the Dataset\n",
    "\n",
    "Load the dataset using pd.read_csv() and assign column names. </br>\n",
    "Lowercase and tokenize the text using pandas string methods.</br>\n",
    "Encode labels into numeric form with LabelEncoder().</br>\n",
    "Split the data into training and testing sets using train_test_split().</br>\n",
    "Create a vocabulary set from all unique words in the dataset.</br>\n",
    "Map each unique word to a unique index.</br>\n",
    "Define encode_and_pad() function to convert tokenized sentences into sequences of indices and pad them to the maximum sequence length.</br>\n",
    "Process training and testing texts with encode_and_pad() to prepare data for modeling.</br>"
   ]
  },
  {
   "cell_type": "code",
   "execution_count": 8,
   "id": "df0cae54",
   "metadata": {},
   "outputs": [],
   "source": [
    "df = pd.read_csv('IMDB-Dataset.csv', names=[\"text\",\"label\"])\n",
    "\n",
    "df['text'] = df['text'].str.lower().str.split()\n",
    "\n",
    "le = LabelEncoder()\n",
    "df['label'] = le.fit_transform(df['label'])\n",
    "\n",
    "train_data, test_data = train_test_split(df, test_size=0.2, random_state=42)\n",
    "\n",
    "vocab = {word for phrase in df['text'] for word in phrase}\n",
    "word_to_idx = {word: idx for idx, word in enumerate(vocab, start=1)}\n",
    "\n",
    "max_length = df['text'].str.len().max()\n",
    "\n",
    "def encode_and_pad(text):\n",
    "    encoded = [word_to_idx[word] for word in text]\n",
    "    return encoded + [0] *   (max_length - len(encoded))\n",
    "\n",
    "train_data['text'] = train_data['text'].apply(encode_and_pad)\n",
    "test_data['text'] = test_data['text'].apply(encode_and_pad)"
   ]
  },
  {
   "cell_type": "code",
   "execution_count": 9,
   "id": "ca3ad508",
   "metadata": {},
   "outputs": [
    {
     "data": {
      "text/html": [
       "<div>\n",
       "<style scoped>\n",
       "    .dataframe tbody tr th:only-of-type {\n",
       "        vertical-align: middle;\n",
       "    }\n",
       "\n",
       "    .dataframe tbody tr th {\n",
       "        vertical-align: top;\n",
       "    }\n",
       "\n",
       "    .dataframe thead th {\n",
       "        text-align: right;\n",
       "    }\n",
       "</style>\n",
       "<table border=\"1\" class=\"dataframe\">\n",
       "  <thead>\n",
       "    <tr style=\"text-align: right;\">\n",
       "      <th></th>\n",
       "      <th>text</th>\n",
       "      <th>label</th>\n",
       "    </tr>\n",
       "  </thead>\n",
       "  <tbody>\n",
       "    <tr>\n",
       "      <th>0</th>\n",
       "      <td>[review]</td>\n",
       "      <td>2</td>\n",
       "    </tr>\n",
       "    <tr>\n",
       "      <th>1</th>\n",
       "      <td>[one, of, the, other, reviewers, has, mentione...</td>\n",
       "      <td>1</td>\n",
       "    </tr>\n",
       "    <tr>\n",
       "      <th>2</th>\n",
       "      <td>[a, wonderful, little, production., &lt;br, /&gt;&lt;br...</td>\n",
       "      <td>1</td>\n",
       "    </tr>\n",
       "    <tr>\n",
       "      <th>3</th>\n",
       "      <td>[i, thought, this, was, a, wonderful, way, to,...</td>\n",
       "      <td>1</td>\n",
       "    </tr>\n",
       "    <tr>\n",
       "      <th>4</th>\n",
       "      <td>[basically, there's, a, family, where, a, litt...</td>\n",
       "      <td>0</td>\n",
       "    </tr>\n",
       "    <tr>\n",
       "      <th>...</th>\n",
       "      <td>...</td>\n",
       "      <td>...</td>\n",
       "    </tr>\n",
       "    <tr>\n",
       "      <th>49996</th>\n",
       "      <td>[i, thought, this, movie, did, a, down, right,...</td>\n",
       "      <td>1</td>\n",
       "    </tr>\n",
       "    <tr>\n",
       "      <th>49997</th>\n",
       "      <td>[bad, plot,, bad, dialogue,, bad, acting,, idi...</td>\n",
       "      <td>0</td>\n",
       "    </tr>\n",
       "    <tr>\n",
       "      <th>49998</th>\n",
       "      <td>[i, am, a, catholic, taught, in, parochial, el...</td>\n",
       "      <td>0</td>\n",
       "    </tr>\n",
       "    <tr>\n",
       "      <th>49999</th>\n",
       "      <td>[i'm, going, to, have, to, disagree, with, the...</td>\n",
       "      <td>0</td>\n",
       "    </tr>\n",
       "    <tr>\n",
       "      <th>50000</th>\n",
       "      <td>[no, one, expects, the, star, trek, movies, to...</td>\n",
       "      <td>0</td>\n",
       "    </tr>\n",
       "  </tbody>\n",
       "</table>\n",
       "<p>50001 rows × 2 columns</p>\n",
       "</div>"
      ],
      "text/plain": [
       "                                                    text  label\n",
       "0                                               [review]      2\n",
       "1      [one, of, the, other, reviewers, has, mentione...      1\n",
       "2      [a, wonderful, little, production., <br, /><br...      1\n",
       "3      [i, thought, this, was, a, wonderful, way, to,...      1\n",
       "4      [basically, there's, a, family, where, a, litt...      0\n",
       "...                                                  ...    ...\n",
       "49996  [i, thought, this, movie, did, a, down, right,...      1\n",
       "49997  [bad, plot,, bad, dialogue,, bad, acting,, idi...      0\n",
       "49998  [i, am, a, catholic, taught, in, parochial, el...      0\n",
       "49999  [i'm, going, to, have, to, disagree, with, the...      0\n",
       "50000  [no, one, expects, the, star, trek, movies, to...      0\n",
       "\n",
       "[50001 rows x 2 columns]"
      ]
     },
     "execution_count": 9,
     "metadata": {},
     "output_type": "execute_result"
    }
   ],
   "source": [
    "df"
   ]
  },
  {
   "cell_type": "code",
   "execution_count": null,
   "id": "5a8f4ab8",
   "metadata": {},
   "outputs": [],
   "source": []
  }
 ],
 "metadata": {
  "kernelspec": {
   "display_name": "Python 3",
   "language": "python",
   "name": "python3"
  },
  "language_info": {
   "codemirror_mode": {
    "name": "ipython",
    "version": 3
   },
   "file_extension": ".py",
   "mimetype": "text/x-python",
   "name": "python",
   "nbconvert_exporter": "python",
   "pygments_lexer": "ipython3",
   "version": "3.11.6"
  }
 },
 "nbformat": 4,
 "nbformat_minor": 5
}
