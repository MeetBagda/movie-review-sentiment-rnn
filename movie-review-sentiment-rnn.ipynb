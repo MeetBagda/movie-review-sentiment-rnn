{
 "cells": [
  {
   "cell_type": "markdown",
   "id": "cff4f566",
   "metadata": {},
   "source": [
    "# Classifying Movie Reviews Using RNN"
   ]
  },
  {
   "cell_type": "code",
   "execution_count": 1,
   "id": "979edf51",
   "metadata": {},
   "outputs": [],
   "source": [
    "import torch\n",
    "import torch.nn as nn\n",
    "import torch.optim as optim\n",
    "import pandas as pd\n",
    "import numpy as np\n",
    "import matplotlib.pyplot as plt\n",
    "from sklearn.model_selection import train_test_split\n",
    "from sklearn.preprocessing import LabelEncoder\n",
    "from torch.utils.data import Dataset, DataLoader"
   ]
  },
  {
   "cell_type": "markdown",
   "id": "57d6d321",
   "metadata": {},
   "source": [
    "### Loading and Preprocessing the Dataset\n",
    "\n",
    "Load the dataset using pd.read_csv() and assign column names. </br>\n",
    "Lowercase and tokenize the text using pandas string methods.</br>\n",
    "Encode labels into numeric form with LabelEncoder().</br>\n",
    "Split the data into training and testing sets using train_test_split().</br>\n",
    "Create a vocabulary set from all unique words in the dataset.</br>\n",
    "Map each unique word to a unique index.</br>\n",
    "Define encode_and_pad() function to convert tokenized sentences into sequences of indices and pad them to the maximum sequence length.</br>\n",
    "Process training and testing texts with encode_and_pad() to prepare data for modeling.</br>"
   ]
  },
  {
   "cell_type": "code",
   "execution_count": 2,
   "id": "df0cae54",
   "metadata": {},
   "outputs": [],
   "source": [
    "df = pd.read_csv('IMDB-Dataset.csv', names=[\"text\",\"label\"], header=0)\n",
    "\n",
    "df['text'] = df['text'].str.lower().str.split()\n",
    "\n",
    "le = LabelEncoder()\n",
    "df['label'] = le.fit_transform(df['label'])\n",
    "\n",
    "train_data, test_data = train_test_split(df, test_size=0.2, random_state=42)\n",
    "\n",
    "vocab = {word for phrase in df['text'] for word in phrase}\n",
    "word_to_idx = {word: idx for idx, word in enumerate(vocab, start=1)}\n",
    "\n",
    "max_length = df['text'].str.len().max()\n",
    "\n",
    "def encode_and_pad(text):\n",
    "    encoded = [word_to_idx[word] for word in text]\n",
    "    return encoded + [0] *   (max_length - len(encoded))\n",
    "\n",
    "train_data['text'] = train_data['text'].apply(encode_and_pad)\n",
    "test_data['text'] = test_data['text'].apply(encode_and_pad)"
   ]
  },
  {
   "cell_type": "code",
   "execution_count": 3,
   "id": "ca3ad508",
   "metadata": {},
   "outputs": [
    {
     "data": {
      "text/html": [
       "<div>\n",
       "<style scoped>\n",
       "    .dataframe tbody tr th:only-of-type {\n",
       "        vertical-align: middle;\n",
       "    }\n",
       "\n",
       "    .dataframe tbody tr th {\n",
       "        vertical-align: top;\n",
       "    }\n",
       "\n",
       "    .dataframe thead th {\n",
       "        text-align: right;\n",
       "    }\n",
       "</style>\n",
       "<table border=\"1\" class=\"dataframe\">\n",
       "  <thead>\n",
       "    <tr style=\"text-align: right;\">\n",
       "      <th></th>\n",
       "      <th>text</th>\n",
       "      <th>label</th>\n",
       "    </tr>\n",
       "  </thead>\n",
       "  <tbody>\n",
       "    <tr>\n",
       "      <th>0</th>\n",
       "      <td>[one, of, the, other, reviewers, has, mentione...</td>\n",
       "      <td>1</td>\n",
       "    </tr>\n",
       "    <tr>\n",
       "      <th>1</th>\n",
       "      <td>[a, wonderful, little, production., &lt;br, /&gt;&lt;br...</td>\n",
       "      <td>1</td>\n",
       "    </tr>\n",
       "    <tr>\n",
       "      <th>2</th>\n",
       "      <td>[i, thought, this, was, a, wonderful, way, to,...</td>\n",
       "      <td>1</td>\n",
       "    </tr>\n",
       "    <tr>\n",
       "      <th>3</th>\n",
       "      <td>[basically, there's, a, family, where, a, litt...</td>\n",
       "      <td>0</td>\n",
       "    </tr>\n",
       "    <tr>\n",
       "      <th>4</th>\n",
       "      <td>[petter, mattei's, \"love, in, the, time, of, m...</td>\n",
       "      <td>1</td>\n",
       "    </tr>\n",
       "    <tr>\n",
       "      <th>...</th>\n",
       "      <td>...</td>\n",
       "      <td>...</td>\n",
       "    </tr>\n",
       "    <tr>\n",
       "      <th>49995</th>\n",
       "      <td>[i, thought, this, movie, did, a, down, right,...</td>\n",
       "      <td>1</td>\n",
       "    </tr>\n",
       "    <tr>\n",
       "      <th>49996</th>\n",
       "      <td>[bad, plot,, bad, dialogue,, bad, acting,, idi...</td>\n",
       "      <td>0</td>\n",
       "    </tr>\n",
       "    <tr>\n",
       "      <th>49997</th>\n",
       "      <td>[i, am, a, catholic, taught, in, parochial, el...</td>\n",
       "      <td>0</td>\n",
       "    </tr>\n",
       "    <tr>\n",
       "      <th>49998</th>\n",
       "      <td>[i'm, going, to, have, to, disagree, with, the...</td>\n",
       "      <td>0</td>\n",
       "    </tr>\n",
       "    <tr>\n",
       "      <th>49999</th>\n",
       "      <td>[no, one, expects, the, star, trek, movies, to...</td>\n",
       "      <td>0</td>\n",
       "    </tr>\n",
       "  </tbody>\n",
       "</table>\n",
       "<p>50000 rows × 2 columns</p>\n",
       "</div>"
      ],
      "text/plain": [
       "                                                    text  label\n",
       "0      [one, of, the, other, reviewers, has, mentione...      1\n",
       "1      [a, wonderful, little, production., <br, /><br...      1\n",
       "2      [i, thought, this, was, a, wonderful, way, to,...      1\n",
       "3      [basically, there's, a, family, where, a, litt...      0\n",
       "4      [petter, mattei's, \"love, in, the, time, of, m...      1\n",
       "...                                                  ...    ...\n",
       "49995  [i, thought, this, movie, did, a, down, right,...      1\n",
       "49996  [bad, plot,, bad, dialogue,, bad, acting,, idi...      0\n",
       "49997  [i, am, a, catholic, taught, in, parochial, el...      0\n",
       "49998  [i'm, going, to, have, to, disagree, with, the...      0\n",
       "49999  [no, one, expects, the, star, trek, movies, to...      0\n",
       "\n",
       "[50000 rows x 2 columns]"
      ]
     },
     "execution_count": 3,
     "metadata": {},
     "output_type": "execute_result"
    }
   ],
   "source": [
    "df"
   ]
  },
  {
   "cell_type": "markdown",
   "id": "69b925cb",
   "metadata": {},
   "source": [
    "### Creating Dataset and Data Loader\n",
    "\n",
    "Define a custom SentimentDataset class inheriting from PyTorch’s Dataset. </br>\n",
    "Store texts and labels from input data within the class.</br>\n",
    "Implement \\_\\_len\\_\\_ method to return total number of samples.</br>\n",
    "Implement \\_\\_getitem\\_\\_ method to retrieve a single sample by index, converting text and label to PyTorch tensors with correct data types.</br>\n",
    "Create dataset instances for training and testing data.</br>\n",
    "Wrap datasets in DataLoaders with a batch size of 32.</br>\n",
    "Shuffle training data in DataLoader for randomness, keep test data ordered.</br>\n",
    "Prepare data for efficient batch loading during model training and evaluation.</br>"
   ]
  },
  {
   "cell_type": "code",
   "execution_count": 4,
   "id": "5a8f4ab8",
   "metadata": {},
   "outputs": [],
   "source": [
    "class SentimentDataset(Dataset):\n",
    "    def __init__(self, data):\n",
    "        self.texts = data['text'].values\n",
    "        self.labels = data['label'].values\n",
    "\n",
    "    def __len__(self):\n",
    "        return len(self.texts)\n",
    "\n",
    "    def __getitem__(self, idx):\n",
    "        text =  self.texts[idx]\n",
    "        label = self.labels[idx]\n",
    "        return torch.tensor(text, dtype=torch.long), torch.tensor(label, dtype=torch.long)\n",
    "    \n",
    "train_dataset = SentimentDataset(train_data)\n",
    "test_dataset = SentimentDataset(test_data)\n",
    "\n",
    "train_loader = DataLoader(train_dataset, batch_size=32, shuffle=True)\n",
    "test_loader = DataLoader(test_dataset, batch_size=32, shuffle=True)"
   ]
  },
  {
   "cell_type": "markdown",
   "id": "22d797cc",
   "metadata": {},
   "source": [
    "### Defining the RNN Model\n",
    "\n",
    "Define a SentimentRNN class inheriting from PyTorch’s nn.Module.</br>\n",
    "Initialize an embedding layer to convert word indices into dense vectors.</br>\n",
    "Add an RNN layer to process the input sequences.</br>\n",
    "Include a fully connected layer to map RNN outputs to the final output size.</br>\n",
    "In the forward method pass input sequences through the embedding layer.</br>\n",
    "Create an initial hidden state of zeros and process the sequence using the RNN layer.</br>\n",
    "Take the output from the last time step and pass it through the fully connected layer to produce predictions.</br>\n",
    "Set parameters of vocabulary size, embedding size, hidden size and output size.</br>\n",
    "Start the SentimentRNN model with these parameters.</br>"
   ]
  },
  {
   "cell_type": "code",
   "execution_count": 5,
   "id": "54396bd2",
   "metadata": {},
   "outputs": [],
   "source": [
    "class SentimentRNN(nn.Module):\n",
    "    def __init__(self, vocab_size, embed_size, hidden_size, output_size):\n",
    "        super(SentimentRNN, self).__init__()\n",
    "        self.embedding = nn.Embedding(vocab_size, embed_size)\n",
    "        self.rnn = nn.RNN(embed_size, hidden_size, batch_first=True)\n",
    "        self.fc = nn.Linear(hidden_size, output_size)\n",
    "\n",
    "    def forward(self, x):\n",
    "        x = self.embedding(x)\n",
    "        h0 = torch.zeros(1, x.size(0), hidden_size).to(x.device)\n",
    "        out, _ = self.rnn(x, h0)\n",
    "        out = self.fc(out[:,-1,:])\n",
    "        return out\n",
    "\n",
    "vocab_size = len(vocab) + 1\n",
    "embed_size = 128\n",
    "hidden_size = 128\n",
    "output_size = 2\n",
    "model = SentimentRNN(vocab_size, embed_size, hidden_size, output_size)\n"
   ]
  },
  {
   "cell_type": "markdown",
   "id": "2ef6a959",
   "metadata": {},
   "source": [
    "### Training the Model\n",
    "\n",
    "Define the loss function as cross-entropy loss.</br>\n",
    "Set up the Adam optimizer with a learning rate of 0.001.</br>\n",
    "Specify the number of training epochs.</br>\n",
    "For each epoch set the model to training mode.</br>\n",
    "Initialize epoch loss to zero.</br>\n",
    "For each batch of texts and labels from the training loader: compute model outputs, calculate the loss and zero the optimizer gradients.</br>\n",
    "Perform backpropagation by computing gradients and update model weights with the optimizer and accumulate the batch loss into epoch loss.</br>"
   ]
  },
  {
   "cell_type": "code",
   "execution_count": null,
   "id": "5250b169",
   "metadata": {},
   "outputs": [
    {
     "name": "stdout",
     "output_type": "stream",
     "text": [
      "\n",
      "🚀 Starting Epoch 1/10\n",
      "Batch 0/1250 loaded\n"
     ]
    }
   ],
   "source": [
    "criterion = nn.CrossEntropyLoss()\n",
    "optimizer = optim.Adam(model.parameters(), lr=0.001)\n",
    "\n",
    "num_epochs = 10\n",
    "for epoch in range(num_epochs):\n",
    "    print(f\"\\n🚀 Starting Epoch {epoch+1}/{num_epochs}\", flush=True)  # 👈 Add this line\n",
    "    \n",
    "    model.train()\n",
    "    epoch_loss = 0\n",
    "    for i, (texts, labels) in enumerate(train_loader):\n",
    "        if i % 50 == 0:\n",
    "            print(f\"Batch {i}/{len(train_loader)} loaded\")\n",
    "\n",
    "        texts, labels = texts, labels\n",
    "        outputs = model(texts)\n",
    "        loss = criterion(outputs, labels)\n",
    "        optimizer.zero_grad()\n",
    "        loss.backward()\n",
    "        optimizer.step()\n",
    "\n",
    "        epoch_loss += loss.item()\n",
    "\n",
    "    # Calculate the average loss for the current epoch after the inner loop finishes\n",
    "    avg_loss = epoch_loss / len(train_loader)\n",
    "\n",
    "    # Print the average loss for the epoch\n",
    "    print(f'✅ Epoch [{epoch+1}/{num_epochs}] completed, Average Loss: {avg_loss:.4f}', flush=True)\n"
   ]
  }
 ],
 "metadata": {
  "kernelspec": {
   "display_name": "Python 3",
   "language": "python",
   "name": "python3"
  },
  "language_info": {
   "codemirror_mode": {
    "name": "ipython",
    "version": 3
   },
   "file_extension": ".py",
   "mimetype": "text/x-python",
   "name": "python",
   "nbconvert_exporter": "python",
   "pygments_lexer": "ipython3",
   "version": "3.11.6"
  }
 },
 "nbformat": 4,
 "nbformat_minor": 5
}
